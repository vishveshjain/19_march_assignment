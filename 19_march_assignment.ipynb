{
 "cells": [
  {
   "attachments": {},
   "cell_type": "markdown",
   "metadata": {},
   "source": [
    "## Data Science Masters - Hindi - 19 Mar 2023"
   ]
  },
  {
   "attachments": {},
   "cell_type": "markdown",
   "metadata": {},
   "source": [
    "#### Q1. What are missing values in a dataset? Why is it essential to handle missing values? Name some algorithms that are not affected by missing values."
   ]
  },
  {
   "attachments": {},
   "cell_type": "markdown",
   "metadata": {},
   "source": [
    "- Missing values refer to the absence of data in one or more variables of a dataset.\n",
    "- Missing values can occur for various reasons, such as data entry errors, equipment failures, or simply because the data was not collected for some observations.\n",
    "#\n",
    "- It is essential to handle missing values in a dataset because they can have a significant impact on the results of data analysis.\n",
    "- If missing values are not handled properly, it can lead to biased or inaccurate conclusions.\n",
    "- Handling missing values can improve the accuracy and reliability of the analysis, as well as provide more robust results.\n",
    "#\n",
    "- There are various techniques to handle missing values, such as imputation (filling in missing values with estimated values), deletion (removing observations with missing values), or using models that can handle missing values.\n",
    "#\n",
    "- Some algorithms that are not affected by missing values include tree-based algorithms such as decision trees, random forests, and gradient boosting machines.\n",
    "- These algorithms can handle missing values in the input data by creating surrogate splits or using a default direction when splitting a node.\n",
    "- Other algorithms that can handle missing values include k-nearest neighbors (KNN), support vector machines (SVM), and Bayesian networks."
   ]
  },
  {
   "attachments": {},
   "cell_type": "markdown",
   "metadata": {},
   "source": [
    "#### Q2. List down techniques used to handle missing data.  Give an example of each with python code."
   ]
  },
  {
   "attachments": {},
   "cell_type": "markdown",
   "metadata": {},
   "source": [
    "- Some common techniques for handling missing data along with examples in Python are:\n",
    "#\n",
    "- Deletion\n",
    "    - The observations with missing values are removed from the dataset.\n",
    "    - There are two types of deletion techniques: listwise deletion and pairwise deletion.\n",
    "    - In listwise deletion, entire observations with missing values are removed, whereas\n",
    "    - In pairwise deletion, only missing values are removed.\n",
    "#\n",
    "- Mean/Mode/Median imputation\n",
    "    - In this approach, missing values are replaced by the mean, mode, or median of the observed values for that variable.\n",
    "#\n",
    "- Interpolation\n",
    "    - Missing values are estimated using the values of other variables or time periods.\n",
    "    - There are different types of interpolation techniques such as linear interpolation, polynomial interpolation, and spline interpolation.\n",
    "#\n",
    "- K-Nearest Neighbor (KNN) imputation:\n",
    "    - The missing values are estimated using the values of K nearest neighbors. The distance between the observations is calculated using Euclidean distance or other distance metrics.\n",
    "#\n",
    "- Multiple Imputation\n",
    "    - Missing values are imputed multiple times to create multiple complete datasets, which are then analyzed to obtain an average estimate."
   ]
  },
  {
   "cell_type": "code",
   "execution_count": null,
   "metadata": {},
   "outputs": [],
   "source": [
    "# Deletion\n",
    "# Listwise deletion\n",
    "df.dropna(inplace=True)\n",
    "\n",
    "# Pairwise deletion\n",
    "df.dropna(axis=1, how='any', inplace=True)"
   ]
  },
  {
   "cell_type": "code",
   "execution_count": null,
   "metadata": {},
   "outputs": [],
   "source": [
    "# Mean/Median/Mode Imputation\n",
    "\n",
    "# Mean imputation\n",
    "mean = df['column_name'].mean()\n",
    "df['column_name'].fillna(mean, inplace=True)\n",
    "\n",
    "# Mode imputation\n",
    "mode = df['column_name'].mode()\n",
    "df['column_name'].fillna(mode, inplace=True)\n",
    "\n",
    "# Median imputation\n",
    "median = df['column_name'].median()\n",
    "df['column_name'].fillna(median, inplace=True)\n"
   ]
  },
  {
   "cell_type": "code",
   "execution_count": null,
   "metadata": {},
   "outputs": [],
   "source": [
    "# Interpolation\n",
    "\n",
    "# Linear interpolation\n",
    "df['column_name'] = df['column_name'].interpolate()\n",
    "\n",
    "# Polynomial interpolation\n",
    "df['column_name'] = df['column_name'].interpolate(method='polynomial', order=2)\n",
    "\n",
    "# Spline interpolation\n",
    "df['column_name'] = df['column_name'].interpolate(method='spline', order=3)"
   ]
  },
  {
   "cell_type": "code",
   "execution_count": null,
   "metadata": {},
   "outputs": [],
   "source": [
    "# KNN\n",
    "\n",
    "from sklearn.impute import KNNImputer\n",
    "\n",
    "imputer = KNNImputer(n_neighbors=3)\n",
    "df = imputer.fit_transform(df)\n"
   ]
  },
  {
   "cell_type": "code",
   "execution_count": null,
   "metadata": {},
   "outputs": [],
   "source": [
    "# Multiple Imputation\n",
    "\n",
    "from sklearn.impute import IterativeImputer\n",
    "\n",
    "imputer = IterativeImputer(random_state=0)\n",
    "df = imputer.fit_transform(df)\n"
   ]
  },
  {
   "attachments": {},
   "cell_type": "markdown",
   "metadata": {},
   "source": [
    "#### Q3. Explain the imbalanced data. What will happen if imbalanced data is not handled?"
   ]
  },
  {
   "attachments": {},
   "cell_type": "markdown",
   "metadata": {},
   "source": [
    "- Imbalanced data is a common problem in machine learning where the distribution of classes in the target variable is not equal.\n",
    "- One class has a much larger number of observations than the other class(es).\n",
    "- Example\n",
    "    - If we have a dataset with 1000 observations, and only 10 of them belong to a particular class, then the data is said to be imbalanced.\n",
    "#\n",
    "- If imbalanced data is not handled, it can lead to biased and inaccurate results.\n",
    "- The machine learning algorithms are typically designed to optimize the overall accuracy of the model, which means they can ignore the minority class while focusing on the majority class. As a result, the model may not be able to correctly identify the minority class, leading to false negatives or misclassification of the minority class as the majority class.\n",
    "- This can have serious consequences in many real-world applications, such as fraud detection, medical diagnosis, or anomaly detection, where correctly identifying the minority class is critical.\n",
    "- Handling imbalanced data is essential to obtain reliable and accurate results.\n",
    "#\n",
    "- There are various techniques for handling imbalanced data, such as:\n",
    "- Resampling\n",
    "    - Resampling techniques involve either oversampling the minority class or undersampling the majority class to balance the dataset.\n",
    "#\n",
    "- Cost-sensitive learning\n",
    "    - the misclassification cost of the minority class is increased to make the model more sensitive to the minority class.\n",
    "    #\n",
    "- Ensemble methods\n",
    "    - These involve combining multiple models to improve the classification performance on the minority class.\n",
    "    #\n",
    "- Synthetic data generation\n",
    "    - It involves generating new observations for the minority class to balance the dataset.\n",
    "#\n",
    "By using these techniques, we can handle imbalanced data and build models that are more accurate and reliable in real-world scenarios."
   ]
  },
  {
   "attachments": {},
   "cell_type": "markdown",
   "metadata": {},
   "source": [
    "#### Q4. What are Up-sampling and Down-sampling? Explain with an example when up-sampling and down-sampling are required."
   ]
  },
  {
   "attachments": {},
   "cell_type": "markdown",
   "metadata": {},
   "source": [
    "- Up-sampling and down-sampling are two common techniques used in machine learning to handle imbalanced data by either increasing or decreasing the number of observations in a particular class.\n",
    "#\n",
    "- Up-sampling\n",
    "    - It is the process of increasing the number of observations in the minority class to balance the dataset.\n",
    "    - This is usually done by duplicating or synthesizing new observations for the minority class.\n",
    "    - One common way to up-sample the minority class is by duplicating its observations until the class becomes balanced with the majority class.\n",
    "    - Example\n",
    "        - If we have a dataset with 1000 observations, and only 100 of them belong to a particular class, we can up-sample the minority class to create a balanced dataset.\n",
    "#\n",
    "- Down-sampling\n",
    "    - It is the process of decreasing the number of observations in the majority class to balance the dataset.\n",
    "    - This is usually done by randomly removing observations from the majority class.\n",
    "    - One common way to down-sample the majority class is by randomly removing its observations until the class becomes balanced with the minority class.\n",
    "    - Example\n",
    "        - If we have a dataset with 1000 observations, and only 100 of them belong to a particular class, we can down-sample the majority class to create a balanced dataset.\n",
    "#\n",
    "- Up-sampling is generally preferred when the minority class has very few observations, and the loss of information due to down-sampling can be significant.\n",
    "- Down-sampling is preferred when the majority class has a significantly larger number of observations than the minority class, and up-sampling would lead to an overly large dataset or overfitting of the model."
   ]
  },
  {
   "attachments": {},
   "cell_type": "markdown",
   "metadata": {},
   "source": [
    "#### Q5. What is data Augmentation? Explain SMOTE."
   ]
  },
  {
   "attachments": {},
   "cell_type": "markdown",
   "metadata": {},
   "source": [
    "- Data augmentation is a technique used in machine learning to increase the size and diversity of the training data by creating new data points from the existing ones.\n",
    "- The purpose of data augmentation is to reduce overfitting, improve the generalization capability of the model, and make the model more robust to variations in the input data.\n",
    "#\n",
    "- SMOTE (Synthetic Minority Over-sampling Technique)\n",
    "    - It is a data augmentation technique used to handle imbalanced data by generating synthetic data for the minority class.\n",
    "    - This algorithm works by creating new observations for the minority class by interpolating between existing observations.\n",
    "    - The algorithm randomly selects an observation from the minority class and computes its k nearest neighbors. It then selects one of the neighbors randomly and generates a new observation by interpolating between the selected observation and the neighbor. This process is repeated until the desired number of new observations is generated.\n",
    "    - SMOTE can be implemented using the imblearn library in Python."
   ]
  },
  {
   "attachments": {},
   "cell_type": "markdown",
   "metadata": {},
   "source": [
    "#### Q6. What are outliers in a dataset? Why is it essential to handle outliers?"
   ]
  },
  {
   "attachments": {},
   "cell_type": "markdown",
   "metadata": {},
   "source": [
    "- Outliers are data points that deviate significantly from the other observations in a dataset.\n",
    "- Outliers can occur due to errors in data collection or measurement, unusual circumstances, or genuine but rare occurrences. Outliers can have a significant impact on the statistical measures of a dataset, such as the mean and standard deviation, which can lead to biased results and incorrect conclusions.\n",
    "#\n",
    "- It is essential to handle outliers because they can have a significant impact on the analysis and modeling of the data. Outliers can distort the overall distribution of the data, reduce the accuracy of statistical models, and lead to incorrect predictions.\n",
    "- It can also introduce noise and reduce the signal-to-noise ratio, which can affect the overall quality of the analysis and modeling results."
   ]
  },
  {
   "attachments": {},
   "cell_type": "markdown",
   "metadata": {},
   "source": [
    "#### Q7. You are working on a project that requires analyzing customer data. However, you notice that some of the data is missing. What are some techniques you can use to handle the missing data in your analysis?"
   ]
  },
  {
   "attachments": {},
   "cell_type": "markdown",
   "metadata": {},
   "source": [
    "- There are several techniques that can be used to handle missing data in customer data analysis:\n",
    "#\n",
    "- Deletion\n",
    "    - One simple approach is to remove the observations that have missing values.\n",
    "    - This approach can lead to a loss of valuable information and reduce the sample size.\n",
    "#\n",
    "- Imputation\n",
    "    - Imputation involves replacing missing values with estimated values based on the available data. Some common imputation techniques include mean imputation, median imputation, mode imputation, and regression imputation.\n",
    "    - Mean imputation involves replacing missing values with the mean of the available values, while median imputation involves replacing missing values with the median of the available values. Mode imputation involves replacing missing values with the mode of the available values.\n",
    "    - Regression imputation involves using a regression model to predict missing values based on the available data.\n",
    "#\n",
    "- Multiple imputation\n",
    "    - Multiple imputation involves generating multiple imputed datasets by simulating plausible values for the missing data based on the observed data. This technique is useful when the missing data are not completely at random.\n",
    "#\n",
    "- Prediction models\n",
    "    - It can handle missing values directly, such as decision trees, random forests, and gradient boosting.\n",
    "#\n",
    "- Domain-specific knowledge\n",
    "    - Sometimes domain-specific knowledge can be used to infer the missing values. For example, if a customer's occupation is missing but their education level is available, we can infer their occupation based on the typical occupations associated with their education level.\n",
    "#\n",
    "- It is important to carefully evaluate the impact of each technique on the analysis and modeling results and choose the most appropriate technique based on the nature and extent of the missing data, the type of analysis or modeling being performed, and the goals of the project."
   ]
  },
  {
   "attachments": {},
   "cell_type": "markdown",
   "metadata": {},
   "source": [
    "#### Q8. You are working with a large dataset and find that a small percentage of the data is missing. What are some strategies you can use to determine if the missing data is missing at random or if there is a pattern to the missing data?"
   ]
  },
  {
   "attachments": {},
   "cell_type": "markdown",
   "metadata": {},
   "source": [
    "- Determining whether missing data is missing at random (MAR) or not missing at random (MNAR) is important because it can affect the analysis and modeling results.\n",
    "#\n",
    "- Here are some strategies to determine if missing data is MAR or MNAR:\n",
    "#\n",
    "- Analyze patterns of missingness\n",
    "    - Analyze the patterns of missingness across variables to identify if there is a systematic pattern to the missing data.\n",
    "    - Example\n",
    "        - If missingness in a variable is associated with another variable, such as missingness in income being associated with missingness in education level, this suggests that the data may not be MAR.\n",
    "        #\n",
    "- Conduct statistical tests\n",
    "    - Conduct statistical tests to compare the distribution of the observed values with the distribution of the missing values for each variable.\n",
    "    - If the distributions are significantly different, this may suggest that the data is not MAR.\n",
    "    #\n",
    "- Imputation\n",
    "    - Use imputation techniques to fill in missing data and then compare the imputed values to the observed values. If the imputed values differ significantly from the observed values, this may suggest that the data is not MAR.\n",
    "    #\n",
    "- Expert opinion\n",
    "    - Seek input from experts in the field to identify any patterns or reasons for missingness. This can help identify potential sources of MNAR missingness.\n",
    "    #   \n",
    "- Machine learning models\n",
    "    - Train machine learning models to predict the missing values and assess the predictive power of the available variables. If the models perform well, this suggests that the data is likely MAR."
   ]
  },
  {
   "attachments": {},
   "cell_type": "markdown",
   "metadata": {},
   "source": [
    "#### Q9. Suppose you are working on a medical diagnosis project and find that the majority of patients in the dataset do not have the condition of interest, while a small percentage do. What are some strategies you can use to evaluate the performance of your machine learning model on this imbalanced dataset?"
   ]
  },
  {
   "attachments": {},
   "cell_type": "markdown",
   "metadata": {},
   "source": [
    "- Imbalanced datasets, where the number of observations in one class is much higher than the other, are common in many real-world applications, including medical diagnosis projects.\n",
    "#\n",
    "- Here are some strategies to evaluate the performance of machine learning models on imbalanced datasets:\n",
    "#\n",
    "- Confusion matrix\n",
    "    - The confusion matrix is a table that summarizes the performance of a binary classification model by comparing the predicted labels with the true labels.\n",
    "    - It provides information about true positive, true negative, false positive, and false negative rates, which can be used to calculate various performance metrics such as accuracy, precision, recall, and F1-score.\n",
    "    #\n",
    "- Resampling\n",
    "    - Resampling techniques such as oversampling and undersampling can be used to balance the dataset. Oversampling involves duplicating the minority class samples, while undersampling involves removing some of the majority class samples.\n",
    "    - Resampling can lead to overfitting, so it is important to use validation techniques such as cross-validation to evaluate the performance of the model.\n",
    "    #\n",
    "- Cost-sensitive learning\n",
    "    - It involves assigning different costs to different types of misclassifications based on the specific application.\n",
    "    - Cost-sensitive learning algorithms can be used to optimize the model based on the specified cost matrix.\n",
    "    - Example\n",
    "        - In a medical diagnosis project, a false negative (i.e., misclassifying a patient with the condition as not having the condition) may be more costly than a false positive (i.e., misclassifying a patient without the condition as having the condition).\n",
    "        #\n",
    "- Ensemble models\n",
    "    - Ensemble models such as random forests and gradient boosting can be used to improve the performance of the model on imbalanced datasets by combining the outputs of multiple models.\n",
    "    #\n",
    "- Evaluation metrics\n",
    "    - When evaluating the performance of machine learning models on imbalanced datasets, it is important to use evaluation metrics that are suitable for imbalanced datasets, such as the area under the receiver operating characteristic curve (AUC-ROC) or the precision-recall curve (PRC)."
   ]
  },
  {
   "attachments": {},
   "cell_type": "markdown",
   "metadata": {},
   "source": [
    "#### Q10. When attempting to estimate customer satisfaction for a project, you discover that the dataset is unbalanced, with the bulk of customers reporting being satisfied. What methods can you employ to balance the dataset and down-sample the majority class? "
   ]
  },
  {
   "attachments": {},
   "cell_type": "markdown",
   "metadata": {},
   "source": [
    "- When dealing with an unbalanced dataset, where one class is over-represented, one common approach is to balance the dataset by down-sampling the majority class.\n",
    "#\n",
    "- Here are some methods that can be used to down-sample the majority class:\n",
    "#\n",
    "- Random under-sampling\n",
    "    - This involves randomly removing observations from the majority class until the dataset is balanced.\n",
    "    - The downside of this method is that some potentially useful information may be lost in the discarded data.\n",
    "#\n",
    "- Tomek links\n",
    "    - Tomek links are pairs of observations that are closest to each other but belong to different classes. Removing the majority class observation in a Tomek link can help reduce the imbalance in the dataset.\n",
    "    #\n",
    "- Cluster-based under-sampling\n",
    "    - This method involves clustering the majority class observations and removing some of them from each cluster until the dataset is balanced.\n",
    "#\n",
    "- Once the majority class has been down-sampled, the resulting balanced dataset can be used for estimating customer satisfaction.\n",
    "- It is important to note that down-sampling may result in the loss of information, and it may be necessary to evaluate the performance of the model on the original imbalanced dataset as well as the balanced dataset.\n",
    "- Also, down-sampling is not the only method for handling imbalanced datasets. Other methods, such as oversampling the minority class, can also be used depending on the specific application and dataset characteristics."
   ]
  },
  {
   "attachments": {},
   "cell_type": "markdown",
   "metadata": {},
   "source": [
    "#### Q11. You discover that the dataset is unbalanced with a low percentage of occurrences while working on a project that requires you to estimate the occurrence of a rare event. What methods can you employ to balance the dataset and up-sample the minority class?"
   ]
  },
  {
   "attachments": {},
   "cell_type": "markdown",
   "metadata": {},
   "source": [
    "- When dealing with a dataset with a low percentage of occurrences of a rare event, one common approach is to balance the dataset by up-sampling the minority class.\n",
    "#\n",
    "- Here are some methods that can be used to up-sample the minority class:\n",
    "#\n",
    "- Random over-sampling\n",
    "    - This involves randomly duplicating observations from the minority class until the dataset is balanced.\n",
    "    - The downside of this method is that it can lead to overfitting and cause the model to perform poorly on unseen data.\n",
    "    #\n",
    "- Synthetic Minority Over-sampling Technique (SMOTE)\n",
    "    - SMOTE is a popular method for up-sampling the minority class. It works by creating synthetic examples of the minority class using interpolation between existing minority class observations.\n",
    "    - This method can help reduce overfitting by creating new synthetic data that is similar but not identical to the existing minority class data.\n",
    "    #\n",
    "    - Adaptive Synthetic Sampling (ADASYN)\n",
    "        - ADASYN is a variation of SMOTE that generates more synthetic examples near the decision boundary, where the minority class examples are difficult to separate from the majority class examples.\n",
    "#\n",
    "Once the minority class has been up-sampled, the resulting balanced dataset can be used for estimating the occurrence of the rare event.\n",
    "- it is important to note that up-sampling may result in overfitting, and it may be necessary to evaluate the performance of the model on the original imbalanced dataset as well as the balanced dataset.\n",
    "- Also, up-sampling is not the only method for handling imbalanced datasets. Other methods, such as down-sampling the majority class or using cost-sensitive learning, can also be used depending on the specific application and dataset characteristics."
   ]
  }
 ],
 "metadata": {
  "kernelspec": {
   "display_name": "Python 3",
   "language": "python",
   "name": "python3"
  },
  "language_info": {
   "codemirror_mode": {
    "name": "ipython",
    "version": 3
   },
   "file_extension": ".py",
   "mimetype": "text/x-python",
   "name": "python",
   "nbconvert_exporter": "python",
   "pygments_lexer": "ipython3",
   "version": "3.10.10"
  },
  "orig_nbformat": 4
 },
 "nbformat": 4,
 "nbformat_minor": 2
}
